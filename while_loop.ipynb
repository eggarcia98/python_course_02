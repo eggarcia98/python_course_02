{
  "cells": [
    {
      "cell_type": "markdown",
      "metadata": {
        "id": "view-in-github",
        "colab_type": "text"
      },
      "source": [
        "<a href=\"https://colab.research.google.com/github/eggarcia98/python_course_02/blob/main/while_loop.ipynb\" target=\"_parent\"><img src=\"https://colab.research.google.com/assets/colab-badge.svg\" alt=\"Open In Colab\"/></a>"
      ]
    },
    {
      "cell_type": "markdown",
      "metadata": {
        "id": "D-Zdeq71HOwU"
      },
      "source": [
        "1. Create a while loop that repeatedly takes user input and adds the input to a list until the user enters \"done\"."
      ]
    },
    {
      "cell_type": "code",
      "execution_count": null,
      "metadata": {
        "vscode": {
          "languageId": "plaintext"
        },
        "id": "BU5YdJfsHOwZ"
      },
      "outputs": [],
      "source": [
        "user_inputs = []\n",
        "\n",
        "user_input = \"\"\n",
        "\n",
        "while user_input.lower() != \"done\":\n",
        "  user_input = input(\"Enter a word or number: \")\n",
        "  user_inputs.append(user_input)\n",
        "\n",
        "print(f\"User inputs: {user_inputs}\")"
      ]
    },
    {
      "cell_type": "markdown",
      "metadata": {
        "id": "6O8rsqg5HOwc"
      },
      "source": [
        "2. Create a while loop that generates random numbers and adds them to a list until the sum of all numbers in the list is greater than 100."
      ]
    },
    {
      "cell_type": "code",
      "execution_count": 11,
      "metadata": {
        "vscode": {
          "languageId": "plaintext"
        },
        "colab": {
          "base_uri": "https://localhost:8080/"
        },
        "id": "Hycu3Y36HOwe",
        "outputId": "bb77d6a3-36e1-4197-dcc3-1631471dc256"
      },
      "outputs": [
        {
          "output_type": "stream",
          "name": "stdout",
          "text": [
            "List generated: [21, 36, 12, 25, 44]\n",
            "Sum of all numbers: 138\n"
          ]
        }
      ],
      "source": [
        "import random\n",
        "\n",
        "sum_of_numbers = 0\n",
        "numbers = []\n",
        "\n",
        "while sum_of_numbers <= 100:\n",
        "  random_number = random.randint(1, 50)\n",
        "  numbers.append(random_number)\n",
        "  \n",
        "  sum_of_numbers = sum(numbers)\n",
        "\n",
        "print(f\"List generated: {numbers}\")\n",
        "print(f\"Sum of all numbers: {sum_of_numbers}\")"
      ]
    },
    {
      "cell_type": "markdown",
      "metadata": {
        "id": "NHXwyy31HOwg"
      },
      "source": [
        "3. Create a while loop that repeatedly takes user input and appends it to a list, but only if the input is a unique string."
      ]
    },
    {
      "cell_type": "code",
      "execution_count": 15,
      "metadata": {
        "vscode": {
          "languageId": "plaintext"
        },
        "colab": {
          "base_uri": "https://localhost:8080/"
        },
        "id": "M7fzTG6mHOwi",
        "outputId": "1ad6fd74-9f2e-42ab-c120-65de24581e5d"
      },
      "outputs": [
        {
          "output_type": "stream",
          "name": "stdout",
          "text": [
            "Enter a word or number: qwe\n",
            "Enter a word or number: we\n",
            "Enter a word or number: qwe\n",
            "qwe already inserted\n",
            "User inputs: ['qwe', 'we']\n"
          ]
        }
      ],
      "source": [
        "user_inputs = []\n",
        "\n",
        "user_input = \"\"\n",
        "\n",
        "\n",
        "string_exist = False\n",
        "while not string_exist:\n",
        "  user_input = input(\"Enter a word or number: \").strip()\n",
        "  if user_input in user_inputs:\n",
        "    print(f\"{user_input} already inserted\")\n",
        "    string_exist = True\n",
        "  else: \n",
        "    user_inputs.append(user_input)\n",
        "\n",
        "print(f\"User inputs: {user_inputs}\")"
      ]
    },
    {
      "cell_type": "markdown",
      "metadata": {
        "id": "Xp7G_3ySHOwk"
      },
      "source": [
        "4. Create a while loop that repeatedly takes user input and appends it to a list, but only if the input is a number greater than 10."
      ]
    },
    {
      "cell_type": "code",
      "execution_count": null,
      "metadata": {
        "vscode": {
          "languageId": "plaintext"
        },
        "id": "5fpoOvXgHOwm"
      },
      "outputs": [],
      "source": []
    },
    {
      "cell_type": "markdown",
      "metadata": {
        "id": "oWM3gQYZHOwo"
      },
      "source": [
        "5. Create a while loop that repeatedly takes user input and keeps track of the highest number entered until the user enters \"done\"."
      ]
    },
    {
      "cell_type": "code",
      "execution_count": null,
      "metadata": {
        "vscode": {
          "languageId": "plaintext"
        },
        "id": "43bPKKeuHOwq"
      },
      "outputs": [],
      "source": []
    }
  ],
  "metadata": {
    "language_info": {
      "name": "python"
    },
    "orig_nbformat": 4,
    "colab": {
      "provenance": [],
      "include_colab_link": true
    },
    "kernelspec": {
      "name": "python3",
      "display_name": "Python 3"
    },
    "gpuClass": "standard"
  },
  "nbformat": 4,
  "nbformat_minor": 0
}