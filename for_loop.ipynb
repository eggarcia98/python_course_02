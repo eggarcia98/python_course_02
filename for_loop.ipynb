{
  "cells": [
    {
      "cell_type": "markdown",
      "metadata": {
        "id": "view-in-github",
        "colab_type": "text"
      },
      "source": [
        "<a href=\"https://colab.research.google.com/github/eggarcia98/python_course_02/blob/main/for_loop.ipynb\" target=\"_parent\"><img src=\"https://colab.research.google.com/assets/colab-badge.svg\" alt=\"Open In Colab\"/></a>"
      ]
    },
    {
      "cell_type": "markdown",
      "metadata": {
        "id": "TXzG6uBcmzSn"
      },
      "source": [
        "1. Create a for loop that iterates through a list of strings and prints each string in uppercase."
      ]
    },
    {
      "cell_type": "code",
      "execution_count": 1,
      "metadata": {
        "colab": {
          "base_uri": "https://localhost:8080/"
        },
        "id": "kTyyuugamzSr",
        "outputId": "6d3f15a7-187a-4db9-b573-1bfb57c2249a"
      },
      "outputs": [
        {
          "output_type": "stream",
          "name": "stdout",
          "text": [
            "WOOD\n",
            "CAR\n",
            "HASH\n",
            "YOGHURT\n",
            "RAIN\n"
          ]
        }
      ],
      "source": [
        "string_list = [\"wood\", \"car\", \"hash\", \"yoghurt\", \"rain\"]\n",
        "\n",
        "for string in string_list:\n",
        "  print(string.upper())"
      ]
    },
    {
      "cell_type": "markdown",
      "metadata": {
        "id": "aA8CuJM9mzSt"
      },
      "source": [
        "2. Create a for loop that iterates through a list of numbers and prints the square of each number."
      ]
    },
    {
      "cell_type": "code",
      "execution_count": 2,
      "metadata": {
        "colab": {
          "base_uri": "https://localhost:8080/"
        },
        "id": "2fy4uBCimzSu",
        "outputId": "f51525f4-eda8-4ec4-fb80-c66ba6b96fe0"
      },
      "outputs": [
        {
          "output_type": "stream",
          "name": "stdout",
          "text": [
            "4\n",
            "16\n",
            "36\n",
            "64\n",
            "100\n"
          ]
        }
      ],
      "source": [
        "number_list = [2,4,6,8,10]\n",
        "\n",
        "for number in number_list:\n",
        "  print(number**2)"
      ]
    },
    {
      "cell_type": "markdown",
      "metadata": {
        "id": "yRNZXKDkmzSw"
      },
      "source": [
        "3. Create a for loop that iterates through a list of dictionaries and prints the value of a specified key for each dictionary."
      ]
    },
    {
      "cell_type": "code",
      "execution_count": 17,
      "metadata": {
        "colab": {
          "base_uri": "https://localhost:8080/"
        },
        "id": "Ya8Kdz1BmzSy",
        "outputId": "2ff5c8a1-12da-4aa8-80cc-c614bad7098b"
      },
      "outputs": [
        {
          "output_type": "stream",
          "name": "stdout",
          "text": [
            "dog\n",
            "apple\n",
            "dog\n",
            "Erick\n",
            "apple\n",
            "apple\n",
            "apple\n",
            "Erick\n"
          ]
        }
      ],
      "source": [
        "import random\n",
        "\n",
        "a_dict = {'color': 'blue', 'fruit': 'apple', 'pet': 'dog', \"user\": \"Erick\"}\n",
        "dict_list = [a_dict]*8\n",
        "\n",
        "for dictionary in dict_list:\n",
        "  keys = list(dictionary.keys())\n",
        "  length_of_keys = len(keys)\n",
        "  random_index = random.randint(0, length_of_keys - 1)\n",
        "\n",
        "  random_key = keys[random_index]\n",
        "  print(dictionary[random_key])\n",
        "\n"
      ]
    },
    {
      "cell_type": "markdown",
      "metadata": {
        "id": "TVYlykt9mzSy"
      },
      "source": [
        "4. Create a for loop that iterates through a list of numbers and prints the largest number in the list."
      ]
    },
    {
      "cell_type": "code",
      "execution_count": null,
      "metadata": {
        "id": "Gpkwib3rmzS0"
      },
      "outputs": [],
      "source": []
    },
    {
      "cell_type": "markdown",
      "metadata": {
        "id": "CXMdCu5amzS2"
      },
      "source": [
        "5. Create a for loop that iterates through a list of lists and prints the sum of the elements in each sub-list."
      ]
    },
    {
      "cell_type": "code",
      "execution_count": 3,
      "metadata": {
        "colab": {
          "base_uri": "https://localhost:8080/"
        },
        "id": "Ikz54zlEmzS4",
        "outputId": "91fe373d-72b4-42bc-9698-795385174867"
      },
      "outputs": [
        {
          "output_type": "stream",
          "name": "stdout",
          "text": [
            "[2, 2, 2, 2, 2]\n"
          ]
        }
      ],
      "source": []
    }
  ],
  "metadata": {
    "language_info": {
      "name": "python"
    },
    "orig_nbformat": 4,
    "colab": {
      "provenance": [],
      "include_colab_link": true
    },
    "kernelspec": {
      "name": "python3",
      "display_name": "Python 3"
    },
    "gpuClass": "standard"
  },
  "nbformat": 4,
  "nbformat_minor": 0
}