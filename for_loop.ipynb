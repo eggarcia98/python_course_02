{
  "cells": [
    {
      "cell_type": "markdown",
      "metadata": {
        "id": "view-in-github",
        "colab_type": "text"
      },
      "source": [
        "<a href=\"https://colab.research.google.com/github/eggarcia98/python_course_02/blob/main/for_loop.ipynb\" target=\"_parent\"><img src=\"https://colab.research.google.com/assets/colab-badge.svg\" alt=\"Open In Colab\"/></a>"
      ]
    },
    {
      "cell_type": "markdown",
      "metadata": {
        "id": "TXzG6uBcmzSn"
      },
      "source": [
        "1. Create a for loop that iterates through a list of strings and prints each string in uppercase."
      ]
    },
    {
      "cell_type": "code",
      "execution_count": 1,
      "metadata": {
        "colab": {
          "base_uri": "https://localhost:8080/"
        },
        "id": "kTyyuugamzSr",
        "outputId": "6d3f15a7-187a-4db9-b573-1bfb57c2249a"
      },
      "outputs": [
        {
          "output_type": "stream",
          "name": "stdout",
          "text": [
            "WOOD\n",
            "CAR\n",
            "HASH\n",
            "YOGHURT\n",
            "RAIN\n"
          ]
        }
      ],
      "source": [
        "string_list = [\"wood\", \"car\", \"hash\", \"yoghurt\", \"rain\"]\n",
        "\n",
        "for string in string_list:\n",
        "  print(string.upper())"
      ]
    },
    {
      "cell_type": "markdown",
      "metadata": {
        "id": "aA8CuJM9mzSt"
      },
      "source": [
        "2. Create a for loop that iterates through a list of numbers and prints the square of each number."
      ]
    },
    {
      "cell_type": "code",
      "execution_count": null,
      "metadata": {
        "id": "2fy4uBCimzSu"
      },
      "outputs": [],
      "source": []
    },
    {
      "cell_type": "markdown",
      "metadata": {
        "id": "yRNZXKDkmzSw"
      },
      "source": [
        "3. Create a for loop that iterates through a list of dictionaries and prints the value of a specified key for each dictionary."
      ]
    },
    {
      "cell_type": "code",
      "execution_count": null,
      "metadata": {
        "id": "Ya8Kdz1BmzSy"
      },
      "outputs": [],
      "source": []
    },
    {
      "cell_type": "markdown",
      "metadata": {
        "id": "TVYlykt9mzSy"
      },
      "source": [
        "4. Create a for loop that iterates through a list of numbers and prints the largest number in the list."
      ]
    },
    {
      "cell_type": "code",
      "execution_count": null,
      "metadata": {
        "id": "Gpkwib3rmzS0"
      },
      "outputs": [],
      "source": []
    },
    {
      "cell_type": "markdown",
      "metadata": {
        "id": "CXMdCu5amzS2"
      },
      "source": [
        "5. Create a for loop that iterates through a list of lists and prints the sum of the elements in each sub-list."
      ]
    },
    {
      "cell_type": "code",
      "execution_count": null,
      "metadata": {
        "id": "Ikz54zlEmzS4"
      },
      "outputs": [],
      "source": []
    }
  ],
  "metadata": {
    "language_info": {
      "name": "python"
    },
    "orig_nbformat": 4,
    "colab": {
      "provenance": [],
      "include_colab_link": true
    },
    "kernelspec": {
      "name": "python3",
      "display_name": "Python 3"
    },
    "gpuClass": "standard"
  },
  "nbformat": 4,
  "nbformat_minor": 0
}