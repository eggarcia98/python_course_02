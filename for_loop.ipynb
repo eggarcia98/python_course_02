{
  "cells": [
    {
      "cell_type": "markdown",
      "metadata": {
        "id": "view-in-github",
        "colab_type": "text"
      },
      "source": [
        "<a href=\"https://colab.research.google.com/github/eggarcia98/python_course_02/blob/main/for_loop.ipynb\" target=\"_parent\"><img src=\"https://colab.research.google.com/assets/colab-badge.svg\" alt=\"Open In Colab\"/></a>"
      ]
    },
    {
      "cell_type": "markdown",
      "metadata": {
        "id": "TXzG6uBcmzSn"
      },
      "source": [
        "1. Create a for loop that iterates through a list of strings and prints each string in uppercase."
      ]
    },
    {
      "cell_type": "code",
      "execution_count": null,
      "metadata": {
        "id": "kTyyuugamzSr"
      },
      "outputs": [],
      "source": [
        "string_list = [\"wood\", \"car\", \"hash\", \"yoghurt\", \"rain\"]\n",
        "\n",
        "for string in string_list:\n",
        "  print(string.upper())"
      ]
    },
    {
      "cell_type": "markdown",
      "metadata": {
        "id": "aA8CuJM9mzSt"
      },
      "source": [
        "2. Create a for loop that iterates through a list of numbers and prints the square of each number."
      ]
    },
    {
      "cell_type": "code",
      "execution_count": null,
      "metadata": {
        "id": "2fy4uBCimzSu"
      },
      "outputs": [],
      "source": [
        "number_list = [2,4,6,8,10]\n",
        "\n",
        "for number in number_list:\n",
        "  print(number**2)"
      ]
    },
    {
      "cell_type": "markdown",
      "metadata": {
        "id": "yRNZXKDkmzSw"
      },
      "source": [
        "3. Create a for loop that iterates through a list of dictionaries and prints the value of a specified key for each dictionary."
      ]
    },
    {
      "cell_type": "code",
      "execution_count": null,
      "metadata": {
        "id": "Ya8Kdz1BmzSy"
      },
      "outputs": [],
      "source": [
        "import random\n",
        "\n",
        "a_dict = {'color': 'blue', 'fruit': 'apple', 'pet': 'dog', \"user\": \"Erick\"}\n",
        "dict_list = [a_dict]*8\n",
        "\n",
        "for dictionary in dict_list:\n",
        "  keys = list(dictionary.keys())\n",
        "  length_of_keys = len(keys)\n",
        "  random_index = random.randint(0, length_of_keys - 1)\n",
        "\n",
        "  random_key = keys[random_index]\n",
        "  print(dictionary[random_key])\n",
        "\n"
      ]
    },
    {
      "cell_type": "markdown",
      "metadata": {
        "id": "TVYlykt9mzSy"
      },
      "source": [
        "4. Create a for loop that iterates through a list of numbers and prints the largest number in the list."
      ]
    },
    {
      "cell_type": "code",
      "execution_count": null,
      "metadata": {
        "id": "Gpkwib3rmzS0"
      },
      "outputs": [],
      "source": [
        "number_list = [34, 56, 10, 97, 52, 83, 65, 9, 43, 17]\n",
        "\n",
        "largest_number = 0\n",
        "\n",
        "for number in number_list:\n",
        "  if number > largest_number:\n",
        "    largest_number = number\n",
        "\n",
        "print(largest_number)\n",
        "  "
      ]
    },
    {
      "cell_type": "markdown",
      "metadata": {
        "id": "CXMdCu5amzS2"
      },
      "source": [
        "5. Create a for loop that iterates through a list of lists and prints the sum of the elements in each sub-list."
      ]
    },
    {
      "cell_type": "code",
      "execution_count": null,
      "metadata": {
        "id": "Ikz54zlEmzS4"
      },
      "outputs": [],
      "source": [
        "list_of_number_list = [[34, 56, 10, 97, 52, 83, 65, 9, 43, 17],\n",
        " [99, 76, 63, 89, 6, 53, 20, 85, 80, 8],\n",
        " [95, 13, 64, 33, 78, 30, 88, 94, 56, 59],\n",
        " [76, 81, 98, 27, 89, 95, 72, 40, 44, 79],\n",
        " [6, 68, 58, 37, 38, 87, 9, 74, 83, 56],\n",
        " [57, 13, 45, 41, 14, 95, 35, 76, 45, 46],\n",
        " [62, 55, 98, 93, 84, 3, 15, 70, 34, 98],\n",
        " [85, 29, 52, 89, 48, 3, 63, 75, 80, 66],\n",
        " [53, 25, 34, 58, 56, 41, 61, 27, 51, 68],\n",
        " [68, 72, 92, 7, 75, 89, 63, 1, 11, 80]]\n",
        "\n",
        "\n",
        "for number_list in list_of_number_list:\n",
        "  print(f\"Sum of {number_list} is {sum(number_list)}\")"
      ]
    }
  ],
  "metadata": {
    "language_info": {
      "name": "python"
    },
    "orig_nbformat": 4,
    "colab": {
      "provenance": [],
      "include_colab_link": true
    },
    "kernelspec": {
      "name": "python3",
      "display_name": "Python 3"
    },
    "gpuClass": "standard"
  },
  "nbformat": 4,
  "nbformat_minor": 0
}